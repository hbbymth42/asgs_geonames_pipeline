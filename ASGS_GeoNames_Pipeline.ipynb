{
 "cells": [
  {
   "cell_type": "markdown",
   "id": "191b5b28-0fdb-457c-87d4-0e3f046e65b0",
   "metadata": {},
   "source": [
    "# ASGS GeoNames Pipeline"
   ]
  },
  {
   "cell_type": "markdown",
   "id": "b50456b6-91fc-4c32-9eaf-2e918128f030",
   "metadata": {},
   "source": [
    "## Required Imports"
   ]
  },
  {
   "cell_type": "code",
   "execution_count": 1,
   "id": "9f298c0f-ebb6-4253-b003-68c005e25d02",
   "metadata": {},
   "outputs": [],
   "source": [
    "import numpy as np\n",
    "import pandas as pd\n",
    "import geopandas as gpd\n",
    "import pathlib\n",
    "from urllib.request import urlretrieve\n",
    "from zipfile import ZipFile\n",
    "import pyogrio"
   ]
  },
  {
   "cell_type": "markdown",
   "id": "79dfc35f-d0d3-4c26-979b-7bc65ae77c37",
   "metadata": {},
   "source": [
    "## Required Files"
   ]
  },
  {
   "cell_type": "markdown",
   "id": "3a867158-0f19-4bb9-8ee8-4fd5a6cf0545",
   "metadata": {},
   "source": [
    "### Create required directories"
   ]
  },
  {
   "cell_type": "code",
   "execution_count": 2,
   "id": "ace1124f-b513-4c04-ad14-b48e01d39658",
   "metadata": {},
   "outputs": [],
   "source": [
    "geonames_path = pathlib.Path('geonames/')\n",
    "geonames_path.mkdir(exist_ok=True)\n",
    "\n",
    "asgs_path = pathlib.Path('asgs/')\n",
    "asgs_path.mkdir(exist_ok=True)\n",
    "\n",
    "outputs_path = pathlib.Path('outputs/')\n",
    "outputs_path.mkdir(exist_ok=True)"
   ]
  },
  {
   "cell_type": "markdown",
   "id": "a9ff5098-fb1a-4f92-b350-5fb410906d4a",
   "metadata": {},
   "source": [
    "### Get GeoNames Australian Postcodes & Placenames Files"
   ]
  },
  {
   "cell_type": "code",
   "execution_count": 3,
   "id": "837298ff-7461-4e2c-8fa5-f720f13755fc",
   "metadata": {},
   "outputs": [],
   "source": [
    "gnames_au_postcodes = 'https://download.geonames.org/export/zip/AU.zip'\n",
    "urlretrieve(gnames_au_postcodes,'geonames_au_postcodes.zip')\n",
    "with ZipFile('geonames_au_postcodes.zip','r') as zip:\n",
    "    zip.extract('AU.txt', path='geonames')\n",
    "    \n",
    "pathlib.Path(geonames_path / 'AU.txt').rename(geonames_path / 'au_postcodes.txt')\n",
    "pathlib.Path('geonames_au_postcodes.zip').unlink()\n",
    "\n",
    "gnames_au_placenames = 'https://download.geonames.org/export/dump/AU.zip'\n",
    "urlretrieve(gnames_au_placenames, 'geonames_au_placenames.zip')\n",
    "with ZipFile('geonames_au_placenames.zip','r') as zip:\n",
    "    zip.extract('AU.txt', path='geonames')\n",
    "\n",
    "pathlib.Path(geonames_path / 'AU.txt').rename(geonames_path / 'au_placenames.txt')\n",
    "pathlib.Path('geonames_au_placenames.zip').unlink()"
   ]
  },
  {
   "cell_type": "markdown",
   "id": "4d17d54a-5bf9-4d77-a1d5-a25a742bf048",
   "metadata": {},
   "source": [
    "### Get ASGS Files"
   ]
  },
  {
   "cell_type": "code",
   "execution_count": 4,
   "id": "48ecf3c7-8356-4a51-b4c7-cda82048b80c",
   "metadata": {},
   "outputs": [],
   "source": [
    "asgs_geopackages = {'asgs_main.zip': 'https://www.abs.gov.au/statistics/standards/australian-statistical-geography-standard-asgs-edition-3/jul2021-jun2026/access-and-downloads/digital-boundary-files/ASGS_2021_MAIN_STRUCTURE_GPKG_GDA2020.zip',\n",
    "                    'asgs_indigenous.zip': 'https://www.abs.gov.au/statistics/standards/australian-statistical-geography-standard-asgs-edition-3/jul2021-jun2026/access-and-downloads/digital-boundary-files/ASGS_Ed3_2021_Indigenous_Structure_GDA2020_GPKG.zip',\n",
    "                    'asgs_non_abs.zip': 'https://www.abs.gov.au/statistics/standards/australian-statistical-geography-standard-asgs-edition-3/jul2021-jun2026/access-and-downloads/digital-boundary-files/ASGS_Ed3_Non_ABS_Structures_GDA2020_updated_2024.zip',\n",
    "                    'asgs_urban_section_state.zip': 'https://www.abs.gov.au/statistics/standards/australian-statistical-geography-standard-asgs-edition-3/jul2021-jun2026/access-and-downloads/digital-boundary-files/ASGS_2021_SUA_UCL_SOS_SOSR_GPKG_GDA2020.zip',\n",
    "                    'asgs_remoteness.zip': 'https://www.abs.gov.au/statistics/standards/australian-statistical-geography-standard-asgs-edition-3/jul2021-jun2026/access-and-downloads/digital-boundary-files/ASGS_Ed3_2021_RA_GPKG_GDA2020.zip'\n",
    "                   }\n",
    "\n",
    "asgs_paths = []\n",
    "\n",
    "for zip_name, link in asgs_geopackages.items():\n",
    "    urlretrieve(link, zip_name)\n",
    "\n",
    "    with ZipFile(zip_name,'r') as zip:\n",
    "        for file in zip.namelist():\n",
    "            if '.gpkg' in file:\n",
    "                zip.extract(file, path='asgs')\n",
    "                asgs_paths.append(pathlib.Path(asgs_path / file))\n",
    "\n",
    "    pathlib.Path(zip_name).unlink()"
   ]
  },
  {
   "cell_type": "markdown",
   "id": "4b7edf68-b94b-484a-9345-f01a347c85b3",
   "metadata": {},
   "source": [
    "## Create GeoNames Australian Postcodes & Placenames Shapefiles"
   ]
  },
  {
   "cell_type": "code",
   "execution_count": 5,
   "id": "c068510d-6447-4ec3-bf2d-95a4fb2f685a",
   "metadata": {},
   "outputs": [
    {
     "data": {
      "text/html": [
       "<div>\n",
       "<style scoped>\n",
       "    .dataframe tbody tr th:only-of-type {\n",
       "        vertical-align: middle;\n",
       "    }\n",
       "\n",
       "    .dataframe tbody tr th {\n",
       "        vertical-align: top;\n",
       "    }\n",
       "\n",
       "    .dataframe thead th {\n",
       "        text-align: right;\n",
       "    }\n",
       "</style>\n",
       "<table border=\"1\" class=\"dataframe\">\n",
       "  <thead>\n",
       "    <tr style=\"text-align: right;\">\n",
       "      <th></th>\n",
       "      <th>postal_code</th>\n",
       "      <th>place_name</th>\n",
       "      <th>latitude</th>\n",
       "      <th>longitude</th>\n",
       "    </tr>\n",
       "  </thead>\n",
       "  <tbody>\n",
       "    <tr>\n",
       "      <th>0</th>\n",
       "      <td>200</td>\n",
       "      <td>Australian National University</td>\n",
       "      <td>-35.2777</td>\n",
       "      <td>149.1189</td>\n",
       "    </tr>\n",
       "    <tr>\n",
       "      <th>1</th>\n",
       "      <td>221</td>\n",
       "      <td>Barton</td>\n",
       "      <td>-35.3049</td>\n",
       "      <td>149.1412</td>\n",
       "    </tr>\n",
       "    <tr>\n",
       "      <th>2</th>\n",
       "      <td>2540</td>\n",
       "      <td>Jervis Bay</td>\n",
       "      <td>-35.1499</td>\n",
       "      <td>150.6969</td>\n",
       "    </tr>\n",
       "    <tr>\n",
       "      <th>3</th>\n",
       "      <td>2540</td>\n",
       "      <td>Hmas Creswell</td>\n",
       "      <td>-35.0280</td>\n",
       "      <td>150.5501</td>\n",
       "    </tr>\n",
       "    <tr>\n",
       "      <th>4</th>\n",
       "      <td>2540</td>\n",
       "      <td>Wreck Bay</td>\n",
       "      <td>-35.1648</td>\n",
       "      <td>150.6908</td>\n",
       "    </tr>\n",
       "    <tr>\n",
       "      <th>...</th>\n",
       "      <td>...</td>\n",
       "      <td>...</td>\n",
       "      <td>...</td>\n",
       "      <td>...</td>\n",
       "    </tr>\n",
       "    <tr>\n",
       "      <th>16867</th>\n",
       "      <td>6989</td>\n",
       "      <td>Maddington</td>\n",
       "      <td>-32.0500</td>\n",
       "      <td>115.9833</td>\n",
       "    </tr>\n",
       "    <tr>\n",
       "      <th>16868</th>\n",
       "      <td>6990</td>\n",
       "      <td>Gosnells</td>\n",
       "      <td>-32.0810</td>\n",
       "      <td>116.0054</td>\n",
       "    </tr>\n",
       "    <tr>\n",
       "      <th>16869</th>\n",
       "      <td>6991</td>\n",
       "      <td>Kelmscott</td>\n",
       "      <td>-32.1243</td>\n",
       "      <td>116.0259</td>\n",
       "    </tr>\n",
       "    <tr>\n",
       "      <th>16870</th>\n",
       "      <td>6992</td>\n",
       "      <td>Armadale</td>\n",
       "      <td>-32.1461</td>\n",
       "      <td>116.0093</td>\n",
       "    </tr>\n",
       "    <tr>\n",
       "      <th>16871</th>\n",
       "      <td>6997</td>\n",
       "      <td>Kelmscott Dc</td>\n",
       "      <td>-32.1167</td>\n",
       "      <td>116.0056</td>\n",
       "    </tr>\n",
       "  </tbody>\n",
       "</table>\n",
       "<p>16872 rows × 4 columns</p>\n",
       "</div>"
      ],
      "text/plain": [
       "       postal_code                      place_name  latitude  longitude\n",
       "0              200  Australian National University  -35.2777   149.1189\n",
       "1              221                          Barton  -35.3049   149.1412\n",
       "2             2540                      Jervis Bay  -35.1499   150.6969\n",
       "3             2540                   Hmas Creswell  -35.0280   150.5501\n",
       "4             2540                       Wreck Bay  -35.1648   150.6908\n",
       "...            ...                             ...       ...        ...\n",
       "16867         6989                      Maddington  -32.0500   115.9833\n",
       "16868         6990                        Gosnells  -32.0810   116.0054\n",
       "16869         6991                       Kelmscott  -32.1243   116.0259\n",
       "16870         6992                        Armadale  -32.1461   116.0093\n",
       "16871         6997                    Kelmscott Dc  -32.1167   116.0056\n",
       "\n",
       "[16872 rows x 4 columns]"
      ]
     },
     "execution_count": 5,
     "metadata": {},
     "output_type": "execute_result"
    }
   ],
   "source": [
    "au_postcodes_cols = ['country_code','postal_code','place_name','admin_name1','admin_code1','admin_name2','admin_code2','admin_name3','admin_code3','latitude','longitude','accuracy']\n",
    "\n",
    "au_postcodes_df = (pd.read_csv(geonames_path / 'au_postcodes.txt', delimiter='\\t', header=None, names=au_postcodes_cols)\n",
    "                   [['postal_code', 'place_name', 'latitude', 'longitude']]\n",
    "                   .drop_duplicates(ignore_index=True)\n",
    "                  )\n",
    "\n",
    "au_postcodes_df"
   ]
  },
  {
   "cell_type": "code",
   "execution_count": 6,
   "id": "5b486766-c74b-41e5-a39f-f97a796608f6",
   "metadata": {},
   "outputs": [
    {
     "name": "stderr",
     "output_type": "stream",
     "text": [
      "/tmp/ipykernel_43675/153412535.py:10: UserWarning: Column names longer than 10 characters will be truncated when saved to ESRI Shapefile.\n",
      "  au_postcodes_gdf.to_file(au_postcodes_path / 'au_postcodes.shp')\n"
     ]
    }
   ],
   "source": [
    "au_postcodes_gdf = (gpd.GeoDataFrame(au_postcodes_df, geometry=gpd.points_from_xy(au_postcodes_df['longitude'], au_postcodes_df['latitude']), crs=\"EPSG:7844\")\n",
    "                    [['postal_code', 'place_name', 'geometry']]\n",
    "                    .drop_duplicates(ignore_index=True)\n",
    "                   )\n",
    "\n",
    "au_postcodes_path = pathlib.Path(outputs_path / 'au_postcodes')\n",
    "\n",
    "au_postcodes_path.mkdir(exist_ok=True)\n",
    "\n",
    "au_postcodes_gdf.to_file(au_postcodes_path / 'au_postcodes.shp')\n",
    "\n",
    "del au_postcodes_gdf\n",
    "\n",
    "with ZipFile(outputs_path / 'au_postcodes.zip', mode='w') as archive:\n",
    "    for file in au_postcodes_path.iterdir():\n",
    "        archive.write(file, arcname=file.name)\n",
    "        file.unlink()\n",
    "\n",
    "au_postcodes_path.rmdir()\n",
    "\n",
    "del au_postcodes_path\n",
    "\n",
    "pathlib.Path(geonames_path / 'au_postcodes.txt').unlink()"
   ]
  },
  {
   "cell_type": "code",
   "execution_count": 7,
   "id": "05ed1411-4386-4cf6-8ec6-858c4e0fc96c",
   "metadata": {},
   "outputs": [
    {
     "name": "stderr",
     "output_type": "stream",
     "text": [
      "/tmp/ipykernel_43675/102975560.py:3: DtypeWarning: Columns (9) have mixed types. Specify dtype option on import or set low_memory=False.\n",
      "  au_placenames_df = (pd.read_csv(pathlib.Path.cwd() / 'geonames' / 'au_placenames.txt', delimiter='\\t', header=None, names=au_placenames_cols)\n"
     ]
    },
    {
     "data": {
      "text/html": [
       "<div>\n",
       "<style scoped>\n",
       "    .dataframe tbody tr th:only-of-type {\n",
       "        vertical-align: middle;\n",
       "    }\n",
       "\n",
       "    .dataframe tbody tr th {\n",
       "        vertical-align: top;\n",
       "    }\n",
       "\n",
       "    .dataframe thead th {\n",
       "        text-align: right;\n",
       "    }\n",
       "</style>\n",
       "<table border=\"1\" class=\"dataframe\">\n",
       "  <thead>\n",
       "    <tr style=\"text-align: right;\">\n",
       "      <th></th>\n",
       "      <th>geonameid</th>\n",
       "      <th>name</th>\n",
       "      <th>latitude</th>\n",
       "      <th>longitude</th>\n",
       "      <th>feature_class</th>\n",
       "      <th>feature_code</th>\n",
       "    </tr>\n",
       "  </thead>\n",
       "  <tbody>\n",
       "    <tr>\n",
       "      <th>0</th>\n",
       "      <td>1818181</td>\n",
       "      <td>Flinders Shoal</td>\n",
       "      <td>-9.88333</td>\n",
       "      <td>129.28333</td>\n",
       "      <td>H</td>\n",
       "      <td>SHOL</td>\n",
       "    </tr>\n",
       "    <tr>\n",
       "      <th>1</th>\n",
       "      <td>2057175</td>\n",
       "      <td>Zuytdorp Point</td>\n",
       "      <td>-26.40321</td>\n",
       "      <td>113.29991</td>\n",
       "      <td>T</td>\n",
       "      <td>PT</td>\n",
       "    </tr>\n",
       "    <tr>\n",
       "      <th>2</th>\n",
       "      <td>2057176</td>\n",
       "      <td>Zuytdorp Cliffs</td>\n",
       "      <td>-27.10165</td>\n",
       "      <td>113.88189</td>\n",
       "      <td>T</td>\n",
       "      <td>CLF</td>\n",
       "    </tr>\n",
       "    <tr>\n",
       "      <th>3</th>\n",
       "      <td>2057177</td>\n",
       "      <td>Mount Zion</td>\n",
       "      <td>-33.19381</td>\n",
       "      <td>138.20853</td>\n",
       "      <td>T</td>\n",
       "      <td>MT</td>\n",
       "    </tr>\n",
       "    <tr>\n",
       "      <th>4</th>\n",
       "      <td>2057178</td>\n",
       "      <td>Mount Zephyr</td>\n",
       "      <td>-28.38701</td>\n",
       "      <td>121.79360</td>\n",
       "      <td>T</td>\n",
       "      <td>MT</td>\n",
       "    </tr>\n",
       "    <tr>\n",
       "      <th>...</th>\n",
       "      <td>...</td>\n",
       "      <td>...</td>\n",
       "      <td>...</td>\n",
       "      <td>...</td>\n",
       "      <td>...</td>\n",
       "      <td>...</td>\n",
       "    </tr>\n",
       "    <tr>\n",
       "      <th>214172</th>\n",
       "      <td>12952964</td>\n",
       "      <td>Charles Allen Reserve</td>\n",
       "      <td>-37.79191</td>\n",
       "      <td>145.30293</td>\n",
       "      <td>L</td>\n",
       "      <td>PRK</td>\n",
       "    </tr>\n",
       "    <tr>\n",
       "      <th>214173</th>\n",
       "      <td>13060436</td>\n",
       "      <td>Davis Hill</td>\n",
       "      <td>-27.78833</td>\n",
       "      <td>153.21444</td>\n",
       "      <td>T</td>\n",
       "      <td>MT</td>\n",
       "    </tr>\n",
       "    <tr>\n",
       "      <th>214174</th>\n",
       "      <td>13061027</td>\n",
       "      <td>Centre of the Universe</td>\n",
       "      <td>-33.47621</td>\n",
       "      <td>150.28941</td>\n",
       "      <td>T</td>\n",
       "      <td>HLL</td>\n",
       "    </tr>\n",
       "    <tr>\n",
       "      <th>214175</th>\n",
       "      <td>13100187</td>\n",
       "      <td>Flat Top</td>\n",
       "      <td>-33.65607</td>\n",
       "      <td>150.36924</td>\n",
       "      <td>T</td>\n",
       "      <td>MT</td>\n",
       "    </tr>\n",
       "    <tr>\n",
       "      <th>214176</th>\n",
       "      <td>13100226</td>\n",
       "      <td>Lockleys Pylon</td>\n",
       "      <td>-33.62740</td>\n",
       "      <td>150.35688</td>\n",
       "      <td>T</td>\n",
       "      <td>MT</td>\n",
       "    </tr>\n",
       "  </tbody>\n",
       "</table>\n",
       "<p>214177 rows × 6 columns</p>\n",
       "</div>"
      ],
      "text/plain": [
       "        geonameid                    name  latitude  longitude feature_class  \\\n",
       "0         1818181          Flinders Shoal  -9.88333  129.28333             H   \n",
       "1         2057175          Zuytdorp Point -26.40321  113.29991             T   \n",
       "2         2057176         Zuytdorp Cliffs -27.10165  113.88189             T   \n",
       "3         2057177              Mount Zion -33.19381  138.20853             T   \n",
       "4         2057178            Mount Zephyr -28.38701  121.79360             T   \n",
       "...           ...                     ...       ...        ...           ...   \n",
       "214172   12952964   Charles Allen Reserve -37.79191  145.30293             L   \n",
       "214173   13060436              Davis Hill -27.78833  153.21444             T   \n",
       "214174   13061027  Centre of the Universe -33.47621  150.28941             T   \n",
       "214175   13100187                Flat Top -33.65607  150.36924             T   \n",
       "214176   13100226          Lockleys Pylon -33.62740  150.35688             T   \n",
       "\n",
       "       feature_code  \n",
       "0              SHOL  \n",
       "1                PT  \n",
       "2               CLF  \n",
       "3                MT  \n",
       "4                MT  \n",
       "...             ...  \n",
       "214172          PRK  \n",
       "214173           MT  \n",
       "214174          HLL  \n",
       "214175           MT  \n",
       "214176           MT  \n",
       "\n",
       "[214177 rows x 6 columns]"
      ]
     },
     "execution_count": 7,
     "metadata": {},
     "output_type": "execute_result"
    }
   ],
   "source": [
    "au_placenames_cols = ['geonameid','name','asciiname','alternatenames','latitude','longitude','feature_class','feature_code','country_code','cc2','admin1_code','admin2_code','admin3_code','admin4_code','population','elevation','dem','timezone','modification_date']\n",
    "\n",
    "au_placenames_df = (pd.read_csv(pathlib.Path.cwd() / 'geonames' / 'au_placenames.txt', delimiter='\\t', header=None, names=au_placenames_cols)\n",
    "                    [['geonameid', 'name', 'latitude', 'longitude', 'feature_class', 'feature_code']]\n",
    "                    .drop_duplicates(ignore_index=True)\n",
    "                   )\n",
    "\n",
    "au_placenames_df"
   ]
  },
  {
   "cell_type": "code",
   "execution_count": 8,
   "id": "73173e26-31d1-4aa5-b16b-1427d85da0e9",
   "metadata": {},
   "outputs": [
    {
     "name": "stderr",
     "output_type": "stream",
     "text": [
      "/tmp/ipykernel_43675/3613896943.py:10: UserWarning: Column names longer than 10 characters will be truncated when saved to ESRI Shapefile.\n",
      "  au_placenames_gdf.to_file(au_placenames_path / 'au_placenames.shp')\n"
     ]
    }
   ],
   "source": [
    "au_placenames_gdf = (gpd.GeoDataFrame(au_placenames_df, geometry=gpd.points_from_xy(au_placenames_df['longitude'], au_placenames_df['latitude']), crs=\"EPSG:7844\")\n",
    "                    [['geonameid', 'name', 'feature_class', 'feature_code', 'geometry']]\n",
    "                    .drop_duplicates(ignore_index=True)\n",
    "                   )\n",
    "\n",
    "au_placenames_path = pathlib.Path(outputs_path / 'au_placenames')\n",
    "\n",
    "au_placenames_path.mkdir(exist_ok=True)\n",
    "\n",
    "au_placenames_gdf.to_file(au_placenames_path / 'au_placenames.shp')\n",
    "\n",
    "del au_placenames_gdf\n",
    "\n",
    "with ZipFile(outputs_path / 'au_placenames.zip', mode='w') as archive:\n",
    "    for file in au_placenames_path.iterdir():\n",
    "        archive.write(file, arcname=file.name)\n",
    "        file.unlink()\n",
    "\n",
    "au_placenames_path.rmdir()\n",
    "\n",
    "del au_placenames_path\n",
    "\n",
    "pathlib.Path(geonames_path / 'au_placenames.txt').unlink()"
   ]
  },
  {
   "cell_type": "markdown",
   "id": "53936742-fb71-448b-a179-2cf7d9c022f8",
   "metadata": {},
   "source": [
    "## Create ASGS Shapefiles & Final Cleanup"
   ]
  },
  {
   "cell_type": "code",
   "execution_count": 9,
   "id": "65cc220a-af4b-42f7-9729-68d0d8a5f5bc",
   "metadata": {},
   "outputs": [],
   "source": [
    "def create_asgs_shapefile(path: pathlib.PosixPath) -> None:\n",
    "    for layer in pyogrio.list_layers(path):\n",
    "        asgs_gdf = (gpd.read_file(path, layer=layer[0])\n",
    "                    .query('not(geometry.isna())')\n",
    "                    .drop_duplicates(ignore_index=True)\n",
    "                   )\n",
    "    \n",
    "        asgs_gdf = (asgs_gdf\n",
    "                    [[asgs_gdf.columns[0], asgs_gdf.columns[1], 'geometry']]\n",
    "                    .rename(columns={asgs_gdf.columns[0]:asgs_gdf.columns[0].lower(),\n",
    "                                     asgs_gdf.columns[1]: asgs_gdf.columns[1].lower()\n",
    "                                    }\n",
    "                           )\n",
    "                    .drop_duplicates(ignore_index=True)\n",
    "                   )\n",
    "        \n",
    "        asgs_path = pathlib.Path(outputs_path / f'{layer[0].lower()}')\n",
    "        \n",
    "        asgs_path.mkdir(exist_ok=True)\n",
    "        \n",
    "        asgs_gdf.to_file(asgs_path / f'{layer[0].lower()}.shp')\n",
    "        \n",
    "        del asgs_gdf\n",
    "        \n",
    "        with ZipFile(outputs_path / f'{layer[0].lower()}.zip', mode='w') as archive:\n",
    "            for file in asgs_path.iterdir():\n",
    "                archive.write(file, arcname=file.name)\n",
    "                file.unlink()\n",
    "        \n",
    "        asgs_path.rmdir()\n",
    "        \n",
    "        del asgs_path\n",
    "        \n",
    "        print(f'Saved {layer[0]} to Shapefile!')\n",
    "\n",
    "    return None"
   ]
  },
  {
   "cell_type": "code",
   "execution_count": 10,
   "id": "2542f5cf-5ccc-4fc4-a28b-ae76b337627a",
   "metadata": {},
   "outputs": [
    {
     "name": "stderr",
     "output_type": "stream",
     "text": [
      "/tmp/ipykernel_43675/3376939180.py:21: UserWarning: Column names longer than 10 characters will be truncated when saved to ESRI Shapefile.\n",
      "  asgs_gdf.to_file(asgs_path / f'{layer[0].lower()}.shp')\n"
     ]
    },
    {
     "name": "stdout",
     "output_type": "stream",
     "text": [
      "Saved MB_2021_AUST_GDA2020 to Shapefile!\n"
     ]
    },
    {
     "name": "stderr",
     "output_type": "stream",
     "text": [
      "/tmp/ipykernel_43675/3376939180.py:21: UserWarning: Column names longer than 10 characters will be truncated when saved to ESRI Shapefile.\n",
      "  asgs_gdf.to_file(asgs_path / f'{layer[0].lower()}.shp')\n"
     ]
    },
    {
     "name": "stdout",
     "output_type": "stream",
     "text": [
      "Saved SA2_2021_AUST_GDA2020 to Shapefile!\n"
     ]
    },
    {
     "name": "stderr",
     "output_type": "stream",
     "text": [
      "/tmp/ipykernel_43675/3376939180.py:21: UserWarning: Column names longer than 10 characters will be truncated when saved to ESRI Shapefile.\n",
      "  asgs_gdf.to_file(asgs_path / f'{layer[0].lower()}.shp')\n"
     ]
    },
    {
     "name": "stdout",
     "output_type": "stream",
     "text": [
      "Saved SA1_2021_AUST_GDA2020 to Shapefile!\n"
     ]
    },
    {
     "name": "stderr",
     "output_type": "stream",
     "text": [
      "/tmp/ipykernel_43675/3376939180.py:21: UserWarning: Column names longer than 10 characters will be truncated when saved to ESRI Shapefile.\n",
      "  asgs_gdf.to_file(asgs_path / f'{layer[0].lower()}.shp')\n"
     ]
    },
    {
     "name": "stdout",
     "output_type": "stream",
     "text": [
      "Saved SA3_2021_AUST_GDA2020 to Shapefile!\n"
     ]
    },
    {
     "name": "stderr",
     "output_type": "stream",
     "text": [
      "/tmp/ipykernel_43675/3376939180.py:21: UserWarning: Column names longer than 10 characters will be truncated when saved to ESRI Shapefile.\n",
      "  asgs_gdf.to_file(asgs_path / f'{layer[0].lower()}.shp')\n"
     ]
    },
    {
     "name": "stdout",
     "output_type": "stream",
     "text": [
      "Saved SA4_2021_AUST_GDA2020 to Shapefile!\n"
     ]
    },
    {
     "name": "stderr",
     "output_type": "stream",
     "text": [
      "/tmp/ipykernel_43675/3376939180.py:21: UserWarning: Column names longer than 10 characters will be truncated when saved to ESRI Shapefile.\n",
      "  asgs_gdf.to_file(asgs_path / f'{layer[0].lower()}.shp')\n"
     ]
    },
    {
     "name": "stdout",
     "output_type": "stream",
     "text": [
      "Saved GCCSA_2021_AUST_GDA2020 to Shapefile!\n"
     ]
    },
    {
     "name": "stderr",
     "output_type": "stream",
     "text": [
      "/tmp/ipykernel_43675/3376939180.py:21: UserWarning: Column names longer than 10 characters will be truncated when saved to ESRI Shapefile.\n",
      "  asgs_gdf.to_file(asgs_path / f'{layer[0].lower()}.shp')\n"
     ]
    },
    {
     "name": "stdout",
     "output_type": "stream",
     "text": [
      "Saved STE_2021_AUST_GDA2020 to Shapefile!\n"
     ]
    },
    {
     "name": "stderr",
     "output_type": "stream",
     "text": [
      "/tmp/ipykernel_43675/3376939180.py:21: UserWarning: Column names longer than 10 characters will be truncated when saved to ESRI Shapefile.\n",
      "  asgs_gdf.to_file(asgs_path / f'{layer[0].lower()}.shp')\n"
     ]
    },
    {
     "name": "stdout",
     "output_type": "stream",
     "text": [
      "Saved AUS_2021_AUST_GDA2020 to Shapefile!\n"
     ]
    },
    {
     "name": "stderr",
     "output_type": "stream",
     "text": [
      "/tmp/ipykernel_43675/3376939180.py:21: UserWarning: Column names longer than 10 characters will be truncated when saved to ESRI Shapefile.\n",
      "  asgs_gdf.to_file(asgs_path / f'{layer[0].lower()}.shp')\n"
     ]
    },
    {
     "name": "stdout",
     "output_type": "stream",
     "text": [
      "Saved IARE_2021_AUST_GDA2020 to Shapefile!\n"
     ]
    },
    {
     "name": "stderr",
     "output_type": "stream",
     "text": [
      "/tmp/ipykernel_43675/3376939180.py:21: UserWarning: Column names longer than 10 characters will be truncated when saved to ESRI Shapefile.\n",
      "  asgs_gdf.to_file(asgs_path / f'{layer[0].lower()}.shp')\n"
     ]
    },
    {
     "name": "stdout",
     "output_type": "stream",
     "text": [
      "Saved ILOC_2021_AUST_GDA2020 to Shapefile!\n"
     ]
    },
    {
     "name": "stderr",
     "output_type": "stream",
     "text": [
      "/tmp/ipykernel_43675/3376939180.py:21: UserWarning: Column names longer than 10 characters will be truncated when saved to ESRI Shapefile.\n",
      "  asgs_gdf.to_file(asgs_path / f'{layer[0].lower()}.shp')\n"
     ]
    },
    {
     "name": "stdout",
     "output_type": "stream",
     "text": [
      "Saved IREG_2021_AUST_GDA2020 to Shapefile!\n"
     ]
    },
    {
     "name": "stderr",
     "output_type": "stream",
     "text": [
      "/tmp/ipykernel_43675/3376939180.py:21: UserWarning: Column names longer than 10 characters will be truncated when saved to ESRI Shapefile.\n",
      "  asgs_gdf.to_file(asgs_path / f'{layer[0].lower()}.shp')\n"
     ]
    },
    {
     "name": "stdout",
     "output_type": "stream",
     "text": [
      "Saved SAL_2021_AUST_GDA2020 to Shapefile!\n"
     ]
    },
    {
     "name": "stderr",
     "output_type": "stream",
     "text": [
      "/tmp/ipykernel_43675/3376939180.py:21: UserWarning: Column names longer than 10 characters will be truncated when saved to ESRI Shapefile.\n",
      "  asgs_gdf.to_file(asgs_path / f'{layer[0].lower()}.shp')\n"
     ]
    },
    {
     "name": "stdout",
     "output_type": "stream",
     "text": [
      "Saved ADD_2021_AUST_GDA2020 to Shapefile!\n"
     ]
    },
    {
     "name": "stderr",
     "output_type": "stream",
     "text": [
      "/tmp/ipykernel_43675/3376939180.py:21: UserWarning: Column names longer than 10 characters will be truncated when saved to ESRI Shapefile.\n",
      "  asgs_gdf.to_file(asgs_path / f'{layer[0].lower()}.shp')\n"
     ]
    },
    {
     "name": "stdout",
     "output_type": "stream",
     "text": [
      "Saved TR_2021_AUST_GDA2020 to Shapefile!\n"
     ]
    },
    {
     "name": "stderr",
     "output_type": "stream",
     "text": [
      "/tmp/ipykernel_43675/3376939180.py:21: UserWarning: Column names longer than 10 characters will be truncated when saved to ESRI Shapefile.\n",
      "  asgs_gdf.to_file(asgs_path / f'{layer[0].lower()}.shp')\n"
     ]
    },
    {
     "name": "stdout",
     "output_type": "stream",
     "text": [
      "Saved SED_2021_AUST_GDA2020 to Shapefile!\n"
     ]
    },
    {
     "name": "stderr",
     "output_type": "stream",
     "text": [
      "/tmp/ipykernel_43675/3376939180.py:21: UserWarning: Column names longer than 10 characters will be truncated when saved to ESRI Shapefile.\n",
      "  asgs_gdf.to_file(asgs_path / f'{layer[0].lower()}.shp')\n"
     ]
    },
    {
     "name": "stdout",
     "output_type": "stream",
     "text": [
      "Saved CED_2021_AUST_GDA2020 to Shapefile!\n"
     ]
    },
    {
     "name": "stderr",
     "output_type": "stream",
     "text": [
      "/tmp/ipykernel_43675/3376939180.py:21: UserWarning: Column names longer than 10 characters will be truncated when saved to ESRI Shapefile.\n",
      "  asgs_gdf.to_file(asgs_path / f'{layer[0].lower()}.shp')\n"
     ]
    },
    {
     "name": "stdout",
     "output_type": "stream",
     "text": [
      "Saved LGA_2021_AUST_GDA2020 to Shapefile!\n"
     ]
    },
    {
     "name": "stderr",
     "output_type": "stream",
     "text": [
      "/tmp/ipykernel_43675/3376939180.py:21: UserWarning: Column names longer than 10 characters will be truncated when saved to ESRI Shapefile.\n",
      "  asgs_gdf.to_file(asgs_path / f'{layer[0].lower()}.shp')\n"
     ]
    },
    {
     "name": "stdout",
     "output_type": "stream",
     "text": [
      "Saved SED_2022_AUST_GDA2020 to Shapefile!\n"
     ]
    },
    {
     "name": "stderr",
     "output_type": "stream",
     "text": [
      "/tmp/ipykernel_43675/3376939180.py:21: UserWarning: Column names longer than 10 characters will be truncated when saved to ESRI Shapefile.\n",
      "  asgs_gdf.to_file(asgs_path / f'{layer[0].lower()}.shp')\n"
     ]
    },
    {
     "name": "stdout",
     "output_type": "stream",
     "text": [
      "Saved DZN_2021_AUST_GDA2020 to Shapefile!\n"
     ]
    },
    {
     "name": "stderr",
     "output_type": "stream",
     "text": [
      "/tmp/ipykernel_43675/3376939180.py:21: UserWarning: Column names longer than 10 characters will be truncated when saved to ESRI Shapefile.\n",
      "  asgs_gdf.to_file(asgs_path / f'{layer[0].lower()}.shp')\n"
     ]
    },
    {
     "name": "stdout",
     "output_type": "stream",
     "text": [
      "Saved LGA_2022_AUST_GDA2020 to Shapefile!\n"
     ]
    },
    {
     "name": "stderr",
     "output_type": "stream",
     "text": [
      "/tmp/ipykernel_43675/3376939180.py:21: UserWarning: Column names longer than 10 characters will be truncated when saved to ESRI Shapefile.\n",
      "  asgs_gdf.to_file(asgs_path / f'{layer[0].lower()}.shp')\n"
     ]
    },
    {
     "name": "stdout",
     "output_type": "stream",
     "text": [
      "Saved POA_2021_AUST_GDA2020 to Shapefile!\n"
     ]
    },
    {
     "name": "stderr",
     "output_type": "stream",
     "text": [
      "/tmp/ipykernel_43675/3376939180.py:21: UserWarning: Column names longer than 10 characters will be truncated when saved to ESRI Shapefile.\n",
      "  asgs_gdf.to_file(asgs_path / f'{layer[0].lower()}.shp')\n"
     ]
    },
    {
     "name": "stdout",
     "output_type": "stream",
     "text": [
      "Saved LGA_2023_AUST_GDA2020 to Shapefile!\n"
     ]
    },
    {
     "name": "stderr",
     "output_type": "stream",
     "text": [
      "/tmp/ipykernel_43675/3376939180.py:21: UserWarning: Column names longer than 10 characters will be truncated when saved to ESRI Shapefile.\n",
      "  asgs_gdf.to_file(asgs_path / f'{layer[0].lower()}.shp')\n"
     ]
    },
    {
     "name": "stdout",
     "output_type": "stream",
     "text": [
      "Saved SED_2024_AUST_GDA2020 to Shapefile!\n"
     ]
    },
    {
     "name": "stderr",
     "output_type": "stream",
     "text": [
      "/tmp/ipykernel_43675/3376939180.py:21: UserWarning: Column names longer than 10 characters will be truncated when saved to ESRI Shapefile.\n",
      "  asgs_gdf.to_file(asgs_path / f'{layer[0].lower()}.shp')\n"
     ]
    },
    {
     "name": "stdout",
     "output_type": "stream",
     "text": [
      "Saved LGA_2024_AUST_GDA2020 to Shapefile!\n"
     ]
    },
    {
     "name": "stderr",
     "output_type": "stream",
     "text": [
      "/tmp/ipykernel_43675/3376939180.py:21: UserWarning: Column names longer than 10 characters will be truncated when saved to ESRI Shapefile.\n",
      "  asgs_gdf.to_file(asgs_path / f'{layer[0].lower()}.shp')\n"
     ]
    },
    {
     "name": "stdout",
     "output_type": "stream",
     "text": [
      "Saved SOS_2021_AUST_GDA2020 to Shapefile!\n"
     ]
    },
    {
     "name": "stderr",
     "output_type": "stream",
     "text": [
      "/tmp/ipykernel_43675/3376939180.py:21: UserWarning: Column names longer than 10 characters will be truncated when saved to ESRI Shapefile.\n",
      "  asgs_gdf.to_file(asgs_path / f'{layer[0].lower()}.shp')\n"
     ]
    },
    {
     "name": "stdout",
     "output_type": "stream",
     "text": [
      "Saved SOSR_2021_AUST_GDA2020 to Shapefile!\n"
     ]
    },
    {
     "name": "stderr",
     "output_type": "stream",
     "text": [
      "/tmp/ipykernel_43675/3376939180.py:21: UserWarning: Column names longer than 10 characters will be truncated when saved to ESRI Shapefile.\n",
      "  asgs_gdf.to_file(asgs_path / f'{layer[0].lower()}.shp')\n"
     ]
    },
    {
     "name": "stdout",
     "output_type": "stream",
     "text": [
      "Saved UCL_2021_AUST_GDA2020 to Shapefile!\n"
     ]
    },
    {
     "name": "stderr",
     "output_type": "stream",
     "text": [
      "/tmp/ipykernel_43675/3376939180.py:21: UserWarning: Column names longer than 10 characters will be truncated when saved to ESRI Shapefile.\n",
      "  asgs_gdf.to_file(asgs_path / f'{layer[0].lower()}.shp')\n"
     ]
    },
    {
     "name": "stdout",
     "output_type": "stream",
     "text": [
      "Saved SUA_2021_AUST_GDA2020 to Shapefile!\n"
     ]
    },
    {
     "name": "stderr",
     "output_type": "stream",
     "text": [
      "/tmp/ipykernel_43675/3376939180.py:21: UserWarning: Column names longer than 10 characters will be truncated when saved to ESRI Shapefile.\n",
      "  asgs_gdf.to_file(asgs_path / f'{layer[0].lower()}.shp')\n"
     ]
    },
    {
     "name": "stdout",
     "output_type": "stream",
     "text": [
      "Saved RA_2021_AUST_GDA2020 to Shapefile!\n",
      "Finished!\n"
     ]
    }
   ],
   "source": [
    "for path in asgs_paths:\n",
    "    create_asgs_shapefile(path)\n",
    "    pathlib.Path(path).unlink()\n",
    "\n",
    "pathlib.Path(geonames_path).rmdir()\n",
    "pathlib.Path(asgs_path).rmdir()\n",
    "print(\"Finished!\")"
   ]
  }
 ],
 "metadata": {
  "kernelspec": {
   "display_name": "Python 3 (ipykernel)",
   "language": "python",
   "name": "python3"
  },
  "language_info": {
   "codemirror_mode": {
    "name": "ipython",
    "version": 3
   },
   "file_extension": ".py",
   "mimetype": "text/x-python",
   "name": "python",
   "nbconvert_exporter": "python",
   "pygments_lexer": "ipython3",
   "version": "3.12.7"
  }
 },
 "nbformat": 4,
 "nbformat_minor": 5
}
