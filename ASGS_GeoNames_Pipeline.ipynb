{
 "cells": [
  {
   "cell_type": "markdown",
   "id": "191b5b28-0fdb-457c-87d4-0e3f046e65b0",
   "metadata": {},
   "source": [
    "# ASGS GeoNames Pipeline"
   ]
  },
  {
   "cell_type": "markdown",
   "id": "b50456b6-91fc-4c32-9eaf-2e918128f030",
   "metadata": {},
   "source": [
    "## Required Imports"
   ]
  },
  {
   "cell_type": "code",
   "execution_count": 1,
   "id": "9f298c0f-ebb6-4253-b003-68c005e25d02",
   "metadata": {},
   "outputs": [],
   "source": [
    "import numpy as np\n",
    "import pandas as pd\n",
    "import geopandas as gpd\n",
    "import pathlib\n",
    "from urllib.request import urlretrieve\n",
    "from zipfile import ZipFile\n",
    "import pyogrio"
   ]
  },
  {
   "cell_type": "markdown",
   "id": "79dfc35f-d0d3-4c26-979b-7bc65ae77c37",
   "metadata": {},
   "source": [
    "## Required Files"
   ]
  },
  {
   "cell_type": "markdown",
   "id": "3a867158-0f19-4bb9-8ee8-4fd5a6cf0545",
   "metadata": {},
   "source": [
    "### Create required directories"
   ]
  },
  {
   "cell_type": "code",
   "execution_count": 2,
   "id": "ace1124f-b513-4c04-ad14-b48e01d39658",
   "metadata": {},
   "outputs": [],
   "source": [
    "pathlib.Path('geonames/').mkdir(exist_ok=True)\n",
    "\n",
    "pathlib.Path('asgs/').mkdir(exist_ok=True)"
   ]
  },
  {
   "cell_type": "markdown",
   "id": "a9ff5098-fb1a-4f92-b350-5fb410906d4a",
   "metadata": {},
   "source": [
    "### GeoNames Australian Postcodes"
   ]
  },
  {
   "cell_type": "code",
   "execution_count": 3,
   "id": "837298ff-7461-4e2c-8fa5-f720f13755fc",
   "metadata": {},
   "outputs": [],
   "source": [
    "gnames_au_postcodes = 'https://download.geonames.org/export/zip/AU.zip'\n",
    "urlretrieve(gnames_au_postcodes,'geonames_au_postcodes.zip')\n",
    "\n",
    "with ZipFile('geonames_au_postcodes.zip','r') as zip:\n",
    "    zip.extract('AU.txt', path='geonames')\n",
    "    \n",
    "pathlib.Path(pathlib.Path.cwd() / 'geonames' / 'AU.txt').rename(pathlib.Path.cwd() / 'geonames' / 'au_postcodes.txt')\n",
    "\n",
    "pathlib.Path(pathlib.Path.cwd() / 'geonames_au_postcodes.zip').unlink()"
   ]
  },
  {
   "cell_type": "markdown",
   "id": "4d17d54a-5bf9-4d77-a1d5-a25a742bf048",
   "metadata": {},
   "source": [
    "### ASGS Files"
   ]
  },
  {
   "cell_type": "code",
   "execution_count": 4,
   "id": "48ecf3c7-8356-4a51-b4c7-cda82048b80c",
   "metadata": {},
   "outputs": [],
   "source": [
    "asgs_geopackages = {'asgs_main.zip': 'https://www.abs.gov.au/statistics/standards/australian-statistical-geography-standard-asgs-edition-3/jul2021-jun2026/access-and-downloads/digital-boundary-files/ASGS_2021_MAIN_STRUCTURE_GPKG_GDA2020.zip',\n",
    "                    'asgs_indigenous.zip': 'https://www.abs.gov.au/statistics/standards/australian-statistical-geography-standard-asgs-edition-3/jul2021-jun2026/access-and-downloads/digital-boundary-files/ASGS_Ed3_2021_Indigenous_Structure_GDA2020_GPKG.zip',\n",
    "                    'asgs_non_abs.zip': 'https://www.abs.gov.au/statistics/standards/australian-statistical-geography-standard-asgs-edition-3/jul2021-jun2026/access-and-downloads/digital-boundary-files/ASGS_Ed3_Non_ABS_Structures_GDA2020_updated_2024.zip',\n",
    "                    'asgs_urban_section_state.zip': 'https://www.abs.gov.au/statistics/standards/australian-statistical-geography-standard-asgs-edition-3/jul2021-jun2026/access-and-downloads/digital-boundary-files/ASGS_2021_SUA_UCL_SOS_SOSR_GPKG_GDA2020.zip',\n",
    "                    'asgs_remoteness.zip': 'https://www.abs.gov.au/statistics/standards/australian-statistical-geography-standard-asgs-edition-3/jul2021-jun2026/access-and-downloads/digital-boundary-files/ASGS_Ed3_2021_RA_GPKG_GDA2020.zip'\n",
    "                   }\n",
    "\n",
    "asgs_paths = []\n",
    "\n",
    "for zip_name, link in asgs_geopackages.items():\n",
    "    urlretrieve(link, zip_name)\n",
    "\n",
    "    with ZipFile(zip_name,'r') as zip:\n",
    "        for file in zip.namelist():\n",
    "            if '.gpkg' in file:\n",
    "                zip.extract(file, path='asgs')\n",
    "                asgs_paths.append(pathlib.Path(pathlib.Path.cwd() / 'asgs' / file))\n",
    "\n",
    "    pathlib.Path(pathlib.Path.cwd() / zip_name).unlink()"
   ]
  },
  {
   "cell_type": "markdown",
   "id": "709dccb6-87e3-4580-9e82-925222ebe86c",
   "metadata": {},
   "source": [
    "## Code"
   ]
  },
  {
   "cell_type": "markdown",
   "id": "4b7edf68-b94b-484a-9345-f01a347c85b3",
   "metadata": {},
   "source": [
    "### GeoNames Postcodes"
   ]
  },
  {
   "cell_type": "code",
   "execution_count": 5,
   "id": "c068510d-6447-4ec3-bf2d-95a4fb2f685a",
   "metadata": {},
   "outputs": [
    {
     "data": {
      "text/html": [
       "<div>\n",
       "<style scoped>\n",
       "    .dataframe tbody tr th:only-of-type {\n",
       "        vertical-align: middle;\n",
       "    }\n",
       "\n",
       "    .dataframe tbody tr th {\n",
       "        vertical-align: top;\n",
       "    }\n",
       "\n",
       "    .dataframe thead th {\n",
       "        text-align: right;\n",
       "    }\n",
       "</style>\n",
       "<table border=\"1\" class=\"dataframe\">\n",
       "  <thead>\n",
       "    <tr style=\"text-align: right;\">\n",
       "      <th></th>\n",
       "      <th>postal_code</th>\n",
       "      <th>place_name</th>\n",
       "      <th>latitude</th>\n",
       "      <th>longitude</th>\n",
       "    </tr>\n",
       "  </thead>\n",
       "  <tbody>\n",
       "    <tr>\n",
       "      <th>0</th>\n",
       "      <td>200</td>\n",
       "      <td>Australian National University</td>\n",
       "      <td>-35.2777</td>\n",
       "      <td>149.1189</td>\n",
       "    </tr>\n",
       "    <tr>\n",
       "      <th>1</th>\n",
       "      <td>221</td>\n",
       "      <td>Barton</td>\n",
       "      <td>-35.3049</td>\n",
       "      <td>149.1412</td>\n",
       "    </tr>\n",
       "    <tr>\n",
       "      <th>2</th>\n",
       "      <td>2540</td>\n",
       "      <td>Jervis Bay</td>\n",
       "      <td>-35.1499</td>\n",
       "      <td>150.6969</td>\n",
       "    </tr>\n",
       "    <tr>\n",
       "      <th>3</th>\n",
       "      <td>2540</td>\n",
       "      <td>Hmas Creswell</td>\n",
       "      <td>-35.0280</td>\n",
       "      <td>150.5501</td>\n",
       "    </tr>\n",
       "    <tr>\n",
       "      <th>4</th>\n",
       "      <td>2540</td>\n",
       "      <td>Wreck Bay</td>\n",
       "      <td>-35.1648</td>\n",
       "      <td>150.6908</td>\n",
       "    </tr>\n",
       "    <tr>\n",
       "      <th>...</th>\n",
       "      <td>...</td>\n",
       "      <td>...</td>\n",
       "      <td>...</td>\n",
       "      <td>...</td>\n",
       "    </tr>\n",
       "    <tr>\n",
       "      <th>16868</th>\n",
       "      <td>6989</td>\n",
       "      <td>Maddington</td>\n",
       "      <td>-32.0500</td>\n",
       "      <td>115.9833</td>\n",
       "    </tr>\n",
       "    <tr>\n",
       "      <th>16869</th>\n",
       "      <td>6990</td>\n",
       "      <td>Gosnells</td>\n",
       "      <td>-32.0810</td>\n",
       "      <td>116.0054</td>\n",
       "    </tr>\n",
       "    <tr>\n",
       "      <th>16870</th>\n",
       "      <td>6991</td>\n",
       "      <td>Kelmscott</td>\n",
       "      <td>-32.1243</td>\n",
       "      <td>116.0259</td>\n",
       "    </tr>\n",
       "    <tr>\n",
       "      <th>16871</th>\n",
       "      <td>6992</td>\n",
       "      <td>Armadale</td>\n",
       "      <td>-32.1461</td>\n",
       "      <td>116.0093</td>\n",
       "    </tr>\n",
       "    <tr>\n",
       "      <th>16872</th>\n",
       "      <td>6997</td>\n",
       "      <td>Kelmscott Dc</td>\n",
       "      <td>-32.1167</td>\n",
       "      <td>116.0056</td>\n",
       "    </tr>\n",
       "  </tbody>\n",
       "</table>\n",
       "<p>16873 rows × 4 columns</p>\n",
       "</div>"
      ],
      "text/plain": [
       "       postal_code                      place_name  latitude  longitude\n",
       "0              200  Australian National University  -35.2777   149.1189\n",
       "1              221                          Barton  -35.3049   149.1412\n",
       "2             2540                      Jervis Bay  -35.1499   150.6969\n",
       "3             2540                   Hmas Creswell  -35.0280   150.5501\n",
       "4             2540                       Wreck Bay  -35.1648   150.6908\n",
       "...            ...                             ...       ...        ...\n",
       "16868         6989                      Maddington  -32.0500   115.9833\n",
       "16869         6990                        Gosnells  -32.0810   116.0054\n",
       "16870         6991                       Kelmscott  -32.1243   116.0259\n",
       "16871         6992                        Armadale  -32.1461   116.0093\n",
       "16872         6997                    Kelmscott Dc  -32.1167   116.0056\n",
       "\n",
       "[16873 rows x 4 columns]"
      ]
     },
     "execution_count": 5,
     "metadata": {},
     "output_type": "execute_result"
    }
   ],
   "source": [
    "au_postcodes_cols = ['country_code','postal_code','place_name','admin_name1','admin_code1','admin_name2','admin_code2','admin_name3','admin_code3','latitude','longitude','accuracy']\n",
    "\n",
    "au_postcodes_df = (pd.read_csv(pathlib.Path.cwd() / 'geonames' / 'au_postcodes.txt', delimiter='\\t', header=None, names=au_postcodes_cols)\n",
    "                   [['postal_code', 'place_name', 'latitude', 'longitude']])\n",
    "\n",
    "au_postcodes_df"
   ]
  },
  {
   "cell_type": "code",
   "execution_count": 6,
   "id": "73173e26-31d1-4aa5-b16b-1427d85da0e9",
   "metadata": {},
   "outputs": [],
   "source": [
    "au_postcodes_gdf = (gpd.GeoDataFrame(au_postcodes_df, geometry=gpd.points_from_xy(au_postcodes_df['longitude'], au_postcodes_df['latitude']), crs=\"EPSG:7844\")\n",
    "                    [['postal_code', 'place_name', 'geometry']]\n",
    "                   )\n",
    "\n",
    "au_postcodes_gdf.to_file('asgs_geonames.gpkg', driver='GPKG', layer='au_postcodes', mode='w', index=False)"
   ]
  },
  {
   "cell_type": "code",
   "execution_count": 7,
   "id": "65cc220a-af4b-42f7-9729-68d0d8a5f5bc",
   "metadata": {},
   "outputs": [],
   "source": [
    "def asgs_geonames_merge(asgs_path: pathlib.PosixPath, au_postcodes_gdf: gpd.GeoDataFrame) -> None:\n",
    "    for layer in pyogrio.list_layers(asgs_path):\n",
    "        asgs_gdf = (gpd.read_file(asgs_path, layer=layer[0])\n",
    "                    .query('not(geometry.isna())')\n",
    "                   )\n",
    "    \n",
    "        asgs_gdf = (asgs_gdf\n",
    "                    [[asgs_gdf.columns[0], asgs_gdf.columns[1], asgs_gdf.columns[-1]]]\n",
    "                    .rename(columns={asgs_gdf.columns[0]:asgs_gdf.columns[0].lower(),\n",
    "                                     asgs_gdf.columns[1]: asgs_gdf.columns[1].lower()\n",
    "                                    }\n",
    "                           )\n",
    "                   )\n",
    "    \n",
    "        asgs_gdf['asgs_geometry'] = asgs_gdf.geometry\n",
    "    \n",
    "        initial_merge_gdf = (au_postcodes_gdf\n",
    "                          .to_crs(asgs_gdf.crs)\n",
    "                          .sjoin(asgs_gdf, how='left', lsuffix='geonames', rsuffix='asgs', predicate='within')\n",
    "                         )\n",
    "    \n",
    "        initial_merge_success_gdf = initial_merge_gdf.query('not(index_asgs.isna())')\n",
    "        \n",
    "        initial_merge_nearest_gdf = (initial_merge_gdf\n",
    "                                     .query('index_asgs.isna()')\n",
    "                                     [au_postcodes_gdf.columns]\n",
    "                                     .to_crs(asgs_gdf.crs)\n",
    "                                     .sjoin_nearest(asgs_gdf, how='left', lsuffix='geonames', rsuffix='asgs')\n",
    "                                    )\n",
    "\n",
    "        full_merge_gdf = (pd.concat([initial_merge_success_gdf, initial_merge_nearest_gdf],ignore_index=True)\n",
    "                          .drop(columns=['index_asgs', 'geometry'])\n",
    "                          .rename(columns={'asgs_geometry':'geometry'})\n",
    "                          [['postal_code',asgs_gdf.columns[0], asgs_gdf.columns[1], asgs_gdf.columns[2]]]\n",
    "                         )\n",
    "\n",
    "        del initial_merge_gdf, initial_merge_success_gdf, initial_merge_nearest_gdf, asgs_gdf\n",
    "        \n",
    "        full_merge_gdf.to_file('asgs_geonames.gpkg', driver='GPKG', layer=layer[0].lower(), index=False)\n",
    "        print(f'Saved {layer[0]} to GeoPackage!') \n",
    "\n",
    "        del full_merge_gdf\n",
    "\n",
    "    return None"
   ]
  },
  {
   "cell_type": "code",
   "execution_count": null,
   "id": "2542f5cf-5ccc-4fc4-a28b-ae76b337627a",
   "metadata": {},
   "outputs": [
    {
     "name": "stderr",
     "output_type": "stream",
     "text": [
      "/home/hobbymath42/miniconda3/envs/asgs_geonames/lib/python3.12/site-packages/geopandas/array.py:365: UserWarning: Geometry is in a geographic CRS. Results from 'sjoin_nearest' are likely incorrect. Use 'GeoSeries.to_crs()' to re-project geometries to a projected CRS before this operation.\n",
      "\n",
      "  warnings.warn(\n"
     ]
    },
    {
     "name": "stdout",
     "output_type": "stream",
     "text": [
      "Saved MB_2021_AUST_GDA2020 to GeoPackage!\n"
     ]
    },
    {
     "name": "stderr",
     "output_type": "stream",
     "text": [
      "/home/hobbymath42/miniconda3/envs/asgs_geonames/lib/python3.12/site-packages/geopandas/array.py:365: UserWarning: Geometry is in a geographic CRS. Results from 'sjoin_nearest' are likely incorrect. Use 'GeoSeries.to_crs()' to re-project geometries to a projected CRS before this operation.\n",
      "\n",
      "  warnings.warn(\n"
     ]
    },
    {
     "name": "stdout",
     "output_type": "stream",
     "text": [
      "Saved SA2_2021_AUST_GDA2020 to GeoPackage!\n"
     ]
    },
    {
     "name": "stderr",
     "output_type": "stream",
     "text": [
      "/home/hobbymath42/miniconda3/envs/asgs_geonames/lib/python3.12/site-packages/geopandas/array.py:365: UserWarning: Geometry is in a geographic CRS. Results from 'sjoin_nearest' are likely incorrect. Use 'GeoSeries.to_crs()' to re-project geometries to a projected CRS before this operation.\n",
      "\n",
      "  warnings.warn(\n"
     ]
    },
    {
     "name": "stdout",
     "output_type": "stream",
     "text": [
      "Saved SA1_2021_AUST_GDA2020 to GeoPackage!\n"
     ]
    },
    {
     "name": "stderr",
     "output_type": "stream",
     "text": [
      "/home/hobbymath42/miniconda3/envs/asgs_geonames/lib/python3.12/site-packages/geopandas/array.py:365: UserWarning: Geometry is in a geographic CRS. Results from 'sjoin_nearest' are likely incorrect. Use 'GeoSeries.to_crs()' to re-project geometries to a projected CRS before this operation.\n",
      "\n",
      "  warnings.warn(\n"
     ]
    },
    {
     "name": "stdout",
     "output_type": "stream",
     "text": [
      "Saved SA3_2021_AUST_GDA2020 to GeoPackage!\n"
     ]
    },
    {
     "name": "stderr",
     "output_type": "stream",
     "text": [
      "/home/hobbymath42/miniconda3/envs/asgs_geonames/lib/python3.12/site-packages/geopandas/array.py:365: UserWarning: Geometry is in a geographic CRS. Results from 'sjoin_nearest' are likely incorrect. Use 'GeoSeries.to_crs()' to re-project geometries to a projected CRS before this operation.\n",
      "\n",
      "  warnings.warn(\n"
     ]
    },
    {
     "name": "stdout",
     "output_type": "stream",
     "text": [
      "Saved SA4_2021_AUST_GDA2020 to GeoPackage!\n"
     ]
    },
    {
     "name": "stderr",
     "output_type": "stream",
     "text": [
      "/home/hobbymath42/miniconda3/envs/asgs_geonames/lib/python3.12/site-packages/geopandas/array.py:365: UserWarning: Geometry is in a geographic CRS. Results from 'sjoin_nearest' are likely incorrect. Use 'GeoSeries.to_crs()' to re-project geometries to a projected CRS before this operation.\n",
      "\n",
      "  warnings.warn(\n"
     ]
    },
    {
     "name": "stdout",
     "output_type": "stream",
     "text": [
      "Saved GCCSA_2021_AUST_GDA2020 to GeoPackage!\n"
     ]
    },
    {
     "name": "stderr",
     "output_type": "stream",
     "text": [
      "/home/hobbymath42/miniconda3/envs/asgs_geonames/lib/python3.12/site-packages/geopandas/array.py:365: UserWarning: Geometry is in a geographic CRS. Results from 'sjoin_nearest' are likely incorrect. Use 'GeoSeries.to_crs()' to re-project geometries to a projected CRS before this operation.\n",
      "\n",
      "  warnings.warn(\n"
     ]
    },
    {
     "name": "stdout",
     "output_type": "stream",
     "text": [
      "Saved STE_2021_AUST_GDA2020 to GeoPackage!\n"
     ]
    },
    {
     "name": "stderr",
     "output_type": "stream",
     "text": [
      "/home/hobbymath42/miniconda3/envs/asgs_geonames/lib/python3.12/site-packages/geopandas/array.py:365: UserWarning: Geometry is in a geographic CRS. Results from 'sjoin_nearest' are likely incorrect. Use 'GeoSeries.to_crs()' to re-project geometries to a projected CRS before this operation.\n",
      "\n",
      "  warnings.warn(\n"
     ]
    },
    {
     "name": "stdout",
     "output_type": "stream",
     "text": [
      "Saved AUS_2021_AUST_GDA2020 to GeoPackage!\n"
     ]
    },
    {
     "name": "stderr",
     "output_type": "stream",
     "text": [
      "/home/hobbymath42/miniconda3/envs/asgs_geonames/lib/python3.12/site-packages/geopandas/array.py:365: UserWarning: Geometry is in a geographic CRS. Results from 'sjoin_nearest' are likely incorrect. Use 'GeoSeries.to_crs()' to re-project geometries to a projected CRS before this operation.\n",
      "\n",
      "  warnings.warn(\n"
     ]
    },
    {
     "name": "stdout",
     "output_type": "stream",
     "text": [
      "Saved IARE_2021_AUST_GDA2020 to GeoPackage!\n"
     ]
    },
    {
     "name": "stderr",
     "output_type": "stream",
     "text": [
      "/home/hobbymath42/miniconda3/envs/asgs_geonames/lib/python3.12/site-packages/geopandas/array.py:365: UserWarning: Geometry is in a geographic CRS. Results from 'sjoin_nearest' are likely incorrect. Use 'GeoSeries.to_crs()' to re-project geometries to a projected CRS before this operation.\n",
      "\n",
      "  warnings.warn(\n"
     ]
    },
    {
     "name": "stdout",
     "output_type": "stream",
     "text": [
      "Saved ILOC_2021_AUST_GDA2020 to GeoPackage!\n"
     ]
    },
    {
     "name": "stderr",
     "output_type": "stream",
     "text": [
      "/home/hobbymath42/miniconda3/envs/asgs_geonames/lib/python3.12/site-packages/geopandas/array.py:365: UserWarning: Geometry is in a geographic CRS. Results from 'sjoin_nearest' are likely incorrect. Use 'GeoSeries.to_crs()' to re-project geometries to a projected CRS before this operation.\n",
      "\n",
      "  warnings.warn(\n"
     ]
    },
    {
     "name": "stdout",
     "output_type": "stream",
     "text": [
      "Saved IREG_2021_AUST_GDA2020 to GeoPackage!\n"
     ]
    },
    {
     "name": "stderr",
     "output_type": "stream",
     "text": [
      "/home/hobbymath42/miniconda3/envs/asgs_geonames/lib/python3.12/site-packages/geopandas/array.py:365: UserWarning: Geometry is in a geographic CRS. Results from 'sjoin_nearest' are likely incorrect. Use 'GeoSeries.to_crs()' to re-project geometries to a projected CRS before this operation.\n",
      "\n",
      "  warnings.warn(\n"
     ]
    },
    {
     "name": "stdout",
     "output_type": "stream",
     "text": [
      "Saved SAL_2021_AUST_GDA2020 to GeoPackage!\n"
     ]
    },
    {
     "name": "stderr",
     "output_type": "stream",
     "text": [
      "/home/hobbymath42/miniconda3/envs/asgs_geonames/lib/python3.12/site-packages/geopandas/array.py:365: UserWarning: Geometry is in a geographic CRS. Results from 'sjoin_nearest' are likely incorrect. Use 'GeoSeries.to_crs()' to re-project geometries to a projected CRS before this operation.\n",
      "\n",
      "  warnings.warn(\n"
     ]
    },
    {
     "name": "stdout",
     "output_type": "stream",
     "text": [
      "Saved ADD_2021_AUST_GDA2020 to GeoPackage!\n"
     ]
    },
    {
     "name": "stderr",
     "output_type": "stream",
     "text": [
      "/home/hobbymath42/miniconda3/envs/asgs_geonames/lib/python3.12/site-packages/geopandas/array.py:365: UserWarning: Geometry is in a geographic CRS. Results from 'sjoin_nearest' are likely incorrect. Use 'GeoSeries.to_crs()' to re-project geometries to a projected CRS before this operation.\n",
      "\n",
      "  warnings.warn(\n"
     ]
    },
    {
     "name": "stdout",
     "output_type": "stream",
     "text": [
      "Saved TR_2021_AUST_GDA2020 to GeoPackage!\n"
     ]
    },
    {
     "name": "stderr",
     "output_type": "stream",
     "text": [
      "/home/hobbymath42/miniconda3/envs/asgs_geonames/lib/python3.12/site-packages/geopandas/array.py:365: UserWarning: Geometry is in a geographic CRS. Results from 'sjoin_nearest' are likely incorrect. Use 'GeoSeries.to_crs()' to re-project geometries to a projected CRS before this operation.\n",
      "\n",
      "  warnings.warn(\n"
     ]
    },
    {
     "name": "stdout",
     "output_type": "stream",
     "text": [
      "Saved SED_2021_AUST_GDA2020 to GeoPackage!\n"
     ]
    },
    {
     "name": "stderr",
     "output_type": "stream",
     "text": [
      "/home/hobbymath42/miniconda3/envs/asgs_geonames/lib/python3.12/site-packages/geopandas/array.py:365: UserWarning: Geometry is in a geographic CRS. Results from 'sjoin_nearest' are likely incorrect. Use 'GeoSeries.to_crs()' to re-project geometries to a projected CRS before this operation.\n",
      "\n",
      "  warnings.warn(\n"
     ]
    },
    {
     "name": "stdout",
     "output_type": "stream",
     "text": [
      "Saved CED_2021_AUST_GDA2020 to GeoPackage!\n"
     ]
    },
    {
     "name": "stderr",
     "output_type": "stream",
     "text": [
      "/home/hobbymath42/miniconda3/envs/asgs_geonames/lib/python3.12/site-packages/geopandas/array.py:365: UserWarning: Geometry is in a geographic CRS. Results from 'sjoin_nearest' are likely incorrect. Use 'GeoSeries.to_crs()' to re-project geometries to a projected CRS before this operation.\n",
      "\n",
      "  warnings.warn(\n"
     ]
    },
    {
     "name": "stdout",
     "output_type": "stream",
     "text": [
      "Saved LGA_2021_AUST_GDA2020 to GeoPackage!\n"
     ]
    },
    {
     "name": "stderr",
     "output_type": "stream",
     "text": [
      "/home/hobbymath42/miniconda3/envs/asgs_geonames/lib/python3.12/site-packages/geopandas/array.py:365: UserWarning: Geometry is in a geographic CRS. Results from 'sjoin_nearest' are likely incorrect. Use 'GeoSeries.to_crs()' to re-project geometries to a projected CRS before this operation.\n",
      "\n",
      "  warnings.warn(\n"
     ]
    },
    {
     "name": "stdout",
     "output_type": "stream",
     "text": [
      "Saved SED_2022_AUST_GDA2020 to GeoPackage!\n"
     ]
    },
    {
     "name": "stderr",
     "output_type": "stream",
     "text": [
      "/home/hobbymath42/miniconda3/envs/asgs_geonames/lib/python3.12/site-packages/geopandas/array.py:365: UserWarning: Geometry is in a geographic CRS. Results from 'sjoin_nearest' are likely incorrect. Use 'GeoSeries.to_crs()' to re-project geometries to a projected CRS before this operation.\n",
      "\n",
      "  warnings.warn(\n"
     ]
    },
    {
     "name": "stdout",
     "output_type": "stream",
     "text": [
      "Saved DZN_2021_AUST_GDA2020 to GeoPackage!\n"
     ]
    },
    {
     "name": "stderr",
     "output_type": "stream",
     "text": [
      "/home/hobbymath42/miniconda3/envs/asgs_geonames/lib/python3.12/site-packages/geopandas/array.py:365: UserWarning: Geometry is in a geographic CRS. Results from 'sjoin_nearest' are likely incorrect. Use 'GeoSeries.to_crs()' to re-project geometries to a projected CRS before this operation.\n",
      "\n",
      "  warnings.warn(\n"
     ]
    },
    {
     "name": "stdout",
     "output_type": "stream",
     "text": [
      "Saved LGA_2022_AUST_GDA2020 to GeoPackage!\n"
     ]
    },
    {
     "name": "stderr",
     "output_type": "stream",
     "text": [
      "/home/hobbymath42/miniconda3/envs/asgs_geonames/lib/python3.12/site-packages/geopandas/array.py:365: UserWarning: Geometry is in a geographic CRS. Results from 'sjoin_nearest' are likely incorrect. Use 'GeoSeries.to_crs()' to re-project geometries to a projected CRS before this operation.\n",
      "\n",
      "  warnings.warn(\n"
     ]
    },
    {
     "name": "stdout",
     "output_type": "stream",
     "text": [
      "Saved POA_2021_AUST_GDA2020 to GeoPackage!\n"
     ]
    },
    {
     "name": "stderr",
     "output_type": "stream",
     "text": [
      "/home/hobbymath42/miniconda3/envs/asgs_geonames/lib/python3.12/site-packages/geopandas/array.py:365: UserWarning: Geometry is in a geographic CRS. Results from 'sjoin_nearest' are likely incorrect. Use 'GeoSeries.to_crs()' to re-project geometries to a projected CRS before this operation.\n",
      "\n",
      "  warnings.warn(\n"
     ]
    },
    {
     "name": "stdout",
     "output_type": "stream",
     "text": [
      "Saved LGA_2023_AUST_GDA2020 to GeoPackage!\n"
     ]
    },
    {
     "name": "stderr",
     "output_type": "stream",
     "text": [
      "/home/hobbymath42/miniconda3/envs/asgs_geonames/lib/python3.12/site-packages/geopandas/array.py:365: UserWarning: Geometry is in a geographic CRS. Results from 'sjoin_nearest' are likely incorrect. Use 'GeoSeries.to_crs()' to re-project geometries to a projected CRS before this operation.\n",
      "\n",
      "  warnings.warn(\n"
     ]
    },
    {
     "name": "stdout",
     "output_type": "stream",
     "text": [
      "Saved SED_2024_AUST_GDA2020 to GeoPackage!\n"
     ]
    },
    {
     "name": "stderr",
     "output_type": "stream",
     "text": [
      "/home/hobbymath42/miniconda3/envs/asgs_geonames/lib/python3.12/site-packages/geopandas/array.py:365: UserWarning: Geometry is in a geographic CRS. Results from 'sjoin_nearest' are likely incorrect. Use 'GeoSeries.to_crs()' to re-project geometries to a projected CRS before this operation.\n",
      "\n",
      "  warnings.warn(\n"
     ]
    },
    {
     "name": "stdout",
     "output_type": "stream",
     "text": [
      "Saved LGA_2024_AUST_GDA2020 to GeoPackage!\n"
     ]
    },
    {
     "name": "stderr",
     "output_type": "stream",
     "text": [
      "/home/hobbymath42/miniconda3/envs/asgs_geonames/lib/python3.12/site-packages/geopandas/array.py:365: UserWarning: Geometry is in a geographic CRS. Results from 'sjoin_nearest' are likely incorrect. Use 'GeoSeries.to_crs()' to re-project geometries to a projected CRS before this operation.\n",
      "\n",
      "  warnings.warn(\n"
     ]
    }
   ],
   "source": [
    "for path in asgs_paths:\n",
    "    asgs_geonames_merge(path, au_postcodes_gdf)\n",
    "    pathlib.Path(path).unlink()\n",
    "\n",
    "pathlib.Path(pathlib.Path.cwd() / 'asgs').rmdir()\n",
    "\n",
    "pathlib.Path(pathlib.Path.cwd() / 'geonames' / 'au_postcodes.txt').unlink()\n",
    "\n",
    "pathlib.Path(pathlib.Path.cwd() / 'geonames').rmdir()"
   ]
  },
  {
   "cell_type": "code",
   "execution_count": null,
   "id": "2a09329c-5a63-4918-924d-1ec93da961d0",
   "metadata": {},
   "outputs": [],
   "source": [
    "print('It worked!!! Somehow...')"
   ]
  }
 ],
 "metadata": {
  "kernelspec": {
   "display_name": "Python 3 (ipykernel)",
   "language": "python",
   "name": "python3"
  },
  "language_info": {
   "codemirror_mode": {
    "name": "ipython",
    "version": 3
   },
   "file_extension": ".py",
   "mimetype": "text/x-python",
   "name": "python",
   "nbconvert_exporter": "python",
   "pygments_lexer": "ipython3",
   "version": "3.12.7"
  }
 },
 "nbformat": 4,
 "nbformat_minor": 5
}
